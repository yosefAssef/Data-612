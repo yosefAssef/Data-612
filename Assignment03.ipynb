{
  "nbformat": 4,
  "nbformat_minor": 0,
  "metadata": {
    "colab": {
      "name": "Assignment03.ipynb",
      "provenance": [],
      "collapsed_sections": []
    },
    "kernelspec": {
      "name": "python3",
      "display_name": "Python 3"
    }
  },
  "cells": [
    {
      "cell_type": "markdown",
      "metadata": {
        "id": "69a5oj6QD5sZ"
      },
      "source": [
        "# Assignment for Week 3"
      ]
    },
    {
      "cell_type": "markdown",
      "metadata": {
        "id": "8IZXIH6-D9Qj"
      },
      "source": [
        "## Purpose:\n",
        "This assignment is intended to help you do the following:\n",
        "1.\tBecome familiar with the Seaborn package\n",
        "2.\tLearn to visualize data using Seaborn\n",
        "3.\tDistinguish between various charts and when to utilize them\n"
      ]
    },
    {
      "cell_type": "markdown",
      "metadata": {
        "id": "Yg7ArX6SEtQ6"
      },
      "source": [
        "## Action Items:\n",
        "•\tCreate three different charts using Seaborn package.   \n",
        "  1. Create three different meaningful charts using Seaborn package on your selected data set.      \n",
        "  2. Explain when it is best to use      \n",
        "  3. Post your work in GitHub     \n",
        "  4. Add a README file     \n"
      ]
    },
    {
      "cell_type": "code",
      "metadata": {
        "id": "mZRGC_IFm__e"
      },
      "source": [
        "import pandas as pd\n",
        "import matplotlib.pyplot as plt \n",
        "import seaborn as sns \n",
        "%matplotlib inline "
      ],
      "execution_count": 2,
      "outputs": []
    },
    {
      "cell_type": "code",
      "metadata": {
        "id": "ntG_6t7OmfJa",
        "outputId": "6a28edea-a22b-4a21-bb77-18ba26cd49f6",
        "colab": {
          "base_uri": "https://localhost:8080/",
          "height": 669
        }
      },
      "source": [
        "baseball = pd.read_csv('https://raw.githubusercontent.com/frankData612/data_612/master/baseballdatabank-master/core/TeamsHalf.csv')\n",
        "baseball.head(20)"
      ],
      "execution_count": 75,
      "outputs": [
        {
          "output_type": "execute_result",
          "data": {
            "text/html": [
              "<div>\n",
              "<style scoped>\n",
              "    .dataframe tbody tr th:only-of-type {\n",
              "        vertical-align: middle;\n",
              "    }\n",
              "\n",
              "    .dataframe tbody tr th {\n",
              "        vertical-align: top;\n",
              "    }\n",
              "\n",
              "    .dataframe thead th {\n",
              "        text-align: right;\n",
              "    }\n",
              "</style>\n",
              "<table border=\"1\" class=\"dataframe\">\n",
              "  <thead>\n",
              "    <tr style=\"text-align: right;\">\n",
              "      <th></th>\n",
              "      <th>yearID</th>\n",
              "      <th>lgID</th>\n",
              "      <th>teamID</th>\n",
              "      <th>Half</th>\n",
              "      <th>divID</th>\n",
              "      <th>DivWin</th>\n",
              "      <th>Rank</th>\n",
              "      <th>G</th>\n",
              "      <th>W</th>\n",
              "      <th>L</th>\n",
              "    </tr>\n",
              "  </thead>\n",
              "  <tbody>\n",
              "    <tr>\n",
              "      <th>0</th>\n",
              "      <td>1981</td>\n",
              "      <td>NL</td>\n",
              "      <td>ATL</td>\n",
              "      <td>1</td>\n",
              "      <td>W</td>\n",
              "      <td>N</td>\n",
              "      <td>4</td>\n",
              "      <td>54</td>\n",
              "      <td>25</td>\n",
              "      <td>29</td>\n",
              "    </tr>\n",
              "    <tr>\n",
              "      <th>1</th>\n",
              "      <td>1981</td>\n",
              "      <td>NL</td>\n",
              "      <td>ATL</td>\n",
              "      <td>2</td>\n",
              "      <td>W</td>\n",
              "      <td>N</td>\n",
              "      <td>5</td>\n",
              "      <td>52</td>\n",
              "      <td>25</td>\n",
              "      <td>27</td>\n",
              "    </tr>\n",
              "    <tr>\n",
              "      <th>2</th>\n",
              "      <td>1981</td>\n",
              "      <td>AL</td>\n",
              "      <td>BAL</td>\n",
              "      <td>1</td>\n",
              "      <td>E</td>\n",
              "      <td>N</td>\n",
              "      <td>2</td>\n",
              "      <td>54</td>\n",
              "      <td>31</td>\n",
              "      <td>23</td>\n",
              "    </tr>\n",
              "    <tr>\n",
              "      <th>3</th>\n",
              "      <td>1981</td>\n",
              "      <td>AL</td>\n",
              "      <td>BAL</td>\n",
              "      <td>2</td>\n",
              "      <td>E</td>\n",
              "      <td>N</td>\n",
              "      <td>4</td>\n",
              "      <td>51</td>\n",
              "      <td>28</td>\n",
              "      <td>23</td>\n",
              "    </tr>\n",
              "    <tr>\n",
              "      <th>4</th>\n",
              "      <td>1981</td>\n",
              "      <td>AL</td>\n",
              "      <td>BOS</td>\n",
              "      <td>1</td>\n",
              "      <td>E</td>\n",
              "      <td>N</td>\n",
              "      <td>5</td>\n",
              "      <td>56</td>\n",
              "      <td>30</td>\n",
              "      <td>26</td>\n",
              "    </tr>\n",
              "    <tr>\n",
              "      <th>5</th>\n",
              "      <td>1981</td>\n",
              "      <td>AL</td>\n",
              "      <td>BOS</td>\n",
              "      <td>2</td>\n",
              "      <td>E</td>\n",
              "      <td>N</td>\n",
              "      <td>2</td>\n",
              "      <td>52</td>\n",
              "      <td>29</td>\n",
              "      <td>23</td>\n",
              "    </tr>\n",
              "    <tr>\n",
              "      <th>6</th>\n",
              "      <td>1981</td>\n",
              "      <td>AL</td>\n",
              "      <td>CAL</td>\n",
              "      <td>1</td>\n",
              "      <td>W</td>\n",
              "      <td>N</td>\n",
              "      <td>4</td>\n",
              "      <td>60</td>\n",
              "      <td>31</td>\n",
              "      <td>29</td>\n",
              "    </tr>\n",
              "    <tr>\n",
              "      <th>7</th>\n",
              "      <td>1981</td>\n",
              "      <td>AL</td>\n",
              "      <td>CAL</td>\n",
              "      <td>2</td>\n",
              "      <td>W</td>\n",
              "      <td>N</td>\n",
              "      <td>6</td>\n",
              "      <td>50</td>\n",
              "      <td>20</td>\n",
              "      <td>30</td>\n",
              "    </tr>\n",
              "    <tr>\n",
              "      <th>8</th>\n",
              "      <td>1981</td>\n",
              "      <td>AL</td>\n",
              "      <td>CHA</td>\n",
              "      <td>1</td>\n",
              "      <td>W</td>\n",
              "      <td>N</td>\n",
              "      <td>3</td>\n",
              "      <td>53</td>\n",
              "      <td>31</td>\n",
              "      <td>22</td>\n",
              "    </tr>\n",
              "    <tr>\n",
              "      <th>9</th>\n",
              "      <td>1981</td>\n",
              "      <td>AL</td>\n",
              "      <td>CHA</td>\n",
              "      <td>2</td>\n",
              "      <td>W</td>\n",
              "      <td>N</td>\n",
              "      <td>6</td>\n",
              "      <td>53</td>\n",
              "      <td>23</td>\n",
              "      <td>30</td>\n",
              "    </tr>\n",
              "    <tr>\n",
              "      <th>10</th>\n",
              "      <td>1981</td>\n",
              "      <td>NL</td>\n",
              "      <td>CHN</td>\n",
              "      <td>1</td>\n",
              "      <td>E</td>\n",
              "      <td>N</td>\n",
              "      <td>6</td>\n",
              "      <td>52</td>\n",
              "      <td>15</td>\n",
              "      <td>37</td>\n",
              "    </tr>\n",
              "    <tr>\n",
              "      <th>11</th>\n",
              "      <td>1981</td>\n",
              "      <td>NL</td>\n",
              "      <td>CHN</td>\n",
              "      <td>2</td>\n",
              "      <td>E</td>\n",
              "      <td>N</td>\n",
              "      <td>5</td>\n",
              "      <td>51</td>\n",
              "      <td>23</td>\n",
              "      <td>28</td>\n",
              "    </tr>\n",
              "    <tr>\n",
              "      <th>12</th>\n",
              "      <td>1981</td>\n",
              "      <td>NL</td>\n",
              "      <td>CIN</td>\n",
              "      <td>1</td>\n",
              "      <td>W</td>\n",
              "      <td>N</td>\n",
              "      <td>2</td>\n",
              "      <td>56</td>\n",
              "      <td>35</td>\n",
              "      <td>21</td>\n",
              "    </tr>\n",
              "    <tr>\n",
              "      <th>13</th>\n",
              "      <td>1981</td>\n",
              "      <td>NL</td>\n",
              "      <td>CIN</td>\n",
              "      <td>2</td>\n",
              "      <td>W</td>\n",
              "      <td>N</td>\n",
              "      <td>2</td>\n",
              "      <td>52</td>\n",
              "      <td>31</td>\n",
              "      <td>21</td>\n",
              "    </tr>\n",
              "    <tr>\n",
              "      <th>14</th>\n",
              "      <td>1981</td>\n",
              "      <td>AL</td>\n",
              "      <td>CLE</td>\n",
              "      <td>1</td>\n",
              "      <td>E</td>\n",
              "      <td>N</td>\n",
              "      <td>6</td>\n",
              "      <td>50</td>\n",
              "      <td>26</td>\n",
              "      <td>24</td>\n",
              "    </tr>\n",
              "    <tr>\n",
              "      <th>15</th>\n",
              "      <td>1981</td>\n",
              "      <td>AL</td>\n",
              "      <td>CLE</td>\n",
              "      <td>2</td>\n",
              "      <td>E</td>\n",
              "      <td>N</td>\n",
              "      <td>5</td>\n",
              "      <td>53</td>\n",
              "      <td>26</td>\n",
              "      <td>27</td>\n",
              "    </tr>\n",
              "    <tr>\n",
              "      <th>16</th>\n",
              "      <td>1981</td>\n",
              "      <td>AL</td>\n",
              "      <td>DET</td>\n",
              "      <td>1</td>\n",
              "      <td>E</td>\n",
              "      <td>N</td>\n",
              "      <td>4</td>\n",
              "      <td>57</td>\n",
              "      <td>31</td>\n",
              "      <td>26</td>\n",
              "    </tr>\n",
              "    <tr>\n",
              "      <th>17</th>\n",
              "      <td>1981</td>\n",
              "      <td>AL</td>\n",
              "      <td>DET</td>\n",
              "      <td>2</td>\n",
              "      <td>E</td>\n",
              "      <td>N</td>\n",
              "      <td>2</td>\n",
              "      <td>52</td>\n",
              "      <td>29</td>\n",
              "      <td>23</td>\n",
              "    </tr>\n",
              "    <tr>\n",
              "      <th>18</th>\n",
              "      <td>1981</td>\n",
              "      <td>NL</td>\n",
              "      <td>HOU</td>\n",
              "      <td>1</td>\n",
              "      <td>W</td>\n",
              "      <td>N</td>\n",
              "      <td>3</td>\n",
              "      <td>57</td>\n",
              "      <td>28</td>\n",
              "      <td>29</td>\n",
              "    </tr>\n",
              "    <tr>\n",
              "      <th>19</th>\n",
              "      <td>1981</td>\n",
              "      <td>NL</td>\n",
              "      <td>HOU</td>\n",
              "      <td>2</td>\n",
              "      <td>W</td>\n",
              "      <td>N</td>\n",
              "      <td>1</td>\n",
              "      <td>53</td>\n",
              "      <td>33</td>\n",
              "      <td>20</td>\n",
              "    </tr>\n",
              "  </tbody>\n",
              "</table>\n",
              "</div>"
            ],
            "text/plain": [
              "    yearID lgID teamID  Half divID DivWin  Rank   G   W   L\n",
              "0     1981   NL    ATL     1     W      N     4  54  25  29\n",
              "1     1981   NL    ATL     2     W      N     5  52  25  27\n",
              "2     1981   AL    BAL     1     E      N     2  54  31  23\n",
              "3     1981   AL    BAL     2     E      N     4  51  28  23\n",
              "4     1981   AL    BOS     1     E      N     5  56  30  26\n",
              "5     1981   AL    BOS     2     E      N     2  52  29  23\n",
              "6     1981   AL    CAL     1     W      N     4  60  31  29\n",
              "7     1981   AL    CAL     2     W      N     6  50  20  30\n",
              "8     1981   AL    CHA     1     W      N     3  53  31  22\n",
              "9     1981   AL    CHA     2     W      N     6  53  23  30\n",
              "10    1981   NL    CHN     1     E      N     6  52  15  37\n",
              "11    1981   NL    CHN     2     E      N     5  51  23  28\n",
              "12    1981   NL    CIN     1     W      N     2  56  35  21\n",
              "13    1981   NL    CIN     2     W      N     2  52  31  21\n",
              "14    1981   AL    CLE     1     E      N     6  50  26  24\n",
              "15    1981   AL    CLE     2     E      N     5  53  26  27\n",
              "16    1981   AL    DET     1     E      N     4  57  31  26\n",
              "17    1981   AL    DET     2     E      N     2  52  29  23\n",
              "18    1981   NL    HOU     1     W      N     3  57  28  29\n",
              "19    1981   NL    HOU     2     W      N     1  53  33  20"
            ]
          },
          "metadata": {
            "tags": []
          },
          "execution_count": 75
        }
      ]
    },
    {
      "cell_type": "code",
      "metadata": {
        "id": "ItbdNcTuYvRv",
        "outputId": "4e6c1416-d92c-48fa-dac4-73ffcab25923",
        "colab": {
          "base_uri": "https://localhost:8080/",
          "height": 333
        }
      },
      "source": [
        "vis1= sns.distplot(baseball['L'])"
      ],
      "execution_count": 71,
      "outputs": [
        {
          "output_type": "stream",
          "text": [
            "/usr/local/lib/python3.6/dist-packages/seaborn/distributions.py:2557: FutureWarning: `distplot` is a deprecated function and will be removed in a future version. Please adapt your code to use either `displot` (a figure-level function with similar flexibility) or `histplot` (an axes-level function for histograms).\n",
            "  warnings.warn(msg, FutureWarning)\n"
          ],
          "name": "stderr"
        },
        {
          "output_type": "display_data",
          "data": {
            "image/png": "[encoded data removed]",
            "text/plain": [
              "<Figure size 432x288 with 1 Axes>"
            ]
          },
          "metadata": {
            "tags": [],
            "needs_background": "light"
          }
        }
      ]
    },
    {
      "cell_type": "code",
      "metadata": {
        "id": "P7msqFMkoUzm",
        "outputId": "75482317-3d39-4baf-d578-efc3cd8f7851",
        "colab": {
          "base_uri": "https://localhost:8080/",
          "height": 235
        }
      },
      "source": [
        "baseball_mx = baseball.corr()\n",
        "baseball_mx"
      ],
      "execution_count": 86,
      "outputs": [
        {
          "output_type": "execute_result",
          "data": {
            "text/html": [
              "<div>\n",
              "<style scoped>\n",
              "    .dataframe tbody tr th:only-of-type {\n",
              "        vertical-align: middle;\n",
              "    }\n",
              "\n",
              "    .dataframe tbody tr th {\n",
              "        vertical-align: top;\n",
              "    }\n",
              "\n",
              "    .dataframe thead th {\n",
              "        text-align: right;\n",
              "    }\n",
              "</style>\n",
              "<table border=\"1\" class=\"dataframe\">\n",
              "  <thead>\n",
              "    <tr style=\"text-align: right;\">\n",
              "      <th></th>\n",
              "      <th>yearID</th>\n",
              "      <th>Half</th>\n",
              "      <th>Rank</th>\n",
              "      <th>G</th>\n",
              "      <th>W</th>\n",
              "      <th>L</th>\n",
              "    </tr>\n",
              "  </thead>\n",
              "  <tbody>\n",
              "    <tr>\n",
              "      <th>yearID</th>\n",
              "      <td>NaN</td>\n",
              "      <td>NaN</td>\n",
              "      <td>NaN</td>\n",
              "      <td>NaN</td>\n",
              "      <td>NaN</td>\n",
              "      <td>NaN</td>\n",
              "    </tr>\n",
              "    <tr>\n",
              "      <th>Half</th>\n",
              "      <td>NaN</td>\n",
              "      <td>1.000000</td>\n",
              "      <td>-0.042164</td>\n",
              "      <td>-0.527364</td>\n",
              "      <td>-0.141997</td>\n",
              "      <td>-0.146082</td>\n",
              "    </tr>\n",
              "    <tr>\n",
              "      <th>Rank</th>\n",
              "      <td>NaN</td>\n",
              "      <td>-0.042164</td>\n",
              "      <td>1.000000</td>\n",
              "      <td>-0.071268</td>\n",
              "      <td>-0.843414</td>\n",
              "      <td>0.828195</td>\n",
              "    </tr>\n",
              "    <tr>\n",
              "      <th>G</th>\n",
              "      <td>NaN</td>\n",
              "      <td>-0.527364</td>\n",
              "      <td>-0.071268</td>\n",
              "      <td>1.000000</td>\n",
              "      <td>0.320460</td>\n",
              "      <td>0.224328</td>\n",
              "    </tr>\n",
              "    <tr>\n",
              "      <th>W</th>\n",
              "      <td>NaN</td>\n",
              "      <td>-0.141997</td>\n",
              "      <td>-0.843414</td>\n",
              "      <td>0.320460</td>\n",
              "      <td>1.000000</td>\n",
              "      <td>-0.851232</td>\n",
              "    </tr>\n",
              "    <tr>\n",
              "      <th>L</th>\n",
              "      <td>NaN</td>\n",
              "      <td>-0.146082</td>\n",
              "      <td>0.828195</td>\n",
              "      <td>0.224328</td>\n",
              "      <td>-0.851232</td>\n",
              "      <td>1.000000</td>\n",
              "    </tr>\n",
              "  </tbody>\n",
              "</table>\n",
              "</div>"
            ],
            "text/plain": [
              "        yearID      Half      Rank         G         W         L\n",
              "yearID     NaN       NaN       NaN       NaN       NaN       NaN\n",
              "Half       NaN  1.000000 -0.042164 -0.527364 -0.141997 -0.146082\n",
              "Rank       NaN -0.042164  1.000000 -0.071268 -0.843414  0.828195\n",
              "G          NaN -0.527364 -0.071268  1.000000  0.320460  0.224328\n",
              "W          NaN -0.141997 -0.843414  0.320460  1.000000 -0.851232\n",
              "L          NaN -0.146082  0.828195  0.224328 -0.851232  1.000000"
            ]
          },
          "metadata": {
            "tags": []
          },
          "execution_count": 86
        }
      ]
    },
    {
      "cell_type": "code",
      "metadata": {
        "id": "fhF0A_pQDL4y",
        "outputId": "ac51c6c1-97a9-46c2-8679-e8f31de61417",
        "colab": {
          "base_uri": "https://localhost:8080/",
          "height": 286
        }
      },
      "source": [
        "sns.heatmap(baseball_mx, annot=True)"
      ],
      "execution_count": 88,
      "outputs": [
        {
          "output_type": "execute_result",
          "data": {
            "text/plain": [
              "<matplotlib.axes._subplots.AxesSubplot at 0x7f10e9bb0a58>"
            ]
          },
          "metadata": {
            "tags": []
          },
          "execution_count": 88
        },
        {
          "output_type": "display_data",
          "data": {
            "image/png": "[encoded data removed]",
            "text/plain": [
              "<Figure size 432x288 with 2 Axes>"
            ]
          },
          "metadata": {
            "tags": [],
            "needs_background": "light"
          }
        }
      ]
    },
    {
      "cell_type": "code",
      "metadata": {
        "id": "SgWRj0pms7hR"
      },
      "source": [
        "salaries = pd.read_csv('https://raw.githubusercontent.com/frankData612/data_612/master/baseballdatabank-master/core/Salaries.csv')"
      ],
      "execution_count": 27,
      "outputs": []
    },
    {
      "cell_type": "code",
      "metadata": {
        "id": "-Pt6qD9ptQmL",
        "outputId": "7e3572d0-3db2-461d-9d8a-6cc469f9852d",
        "colab": {
          "base_uri": "https://localhost:8080/",
          "height": 204
        }
      },
      "source": [
        "salaries.head(5)"
      ],
      "execution_count": 28,
      "outputs": [
        {
          "output_type": "execute_result",
          "data": {
            "text/html": [
              "<div>\n",
              "<style scoped>\n",
              "    .dataframe tbody tr th:only-of-type {\n",
              "        vertical-align: middle;\n",
              "    }\n",
              "\n",
              "    .dataframe tbody tr th {\n",
              "        vertical-align: top;\n",
              "    }\n",
              "\n",
              "    .dataframe thead th {\n",
              "        text-align: right;\n",
              "    }\n",
              "</style>\n",
              "<table border=\"1\" class=\"dataframe\">\n",
              "  <thead>\n",
              "    <tr style=\"text-align: right;\">\n",
              "      <th></th>\n",
              "      <th>yearID</th>\n",
              "      <th>teamID</th>\n",
              "      <th>lgID</th>\n",
              "      <th>playerID</th>\n",
              "      <th>salary</th>\n",
              "    </tr>\n",
              "  </thead>\n",
              "  <tbody>\n",
              "    <tr>\n",
              "      <th>0</th>\n",
              "      <td>1985</td>\n",
              "      <td>ATL</td>\n",
              "      <td>NL</td>\n",
              "      <td>barkele01</td>\n",
              "      <td>870000</td>\n",
              "    </tr>\n",
              "    <tr>\n",
              "      <th>1</th>\n",
              "      <td>1985</td>\n",
              "      <td>ATL</td>\n",
              "      <td>NL</td>\n",
              "      <td>bedrost01</td>\n",
              "      <td>550000</td>\n",
              "    </tr>\n",
              "    <tr>\n",
              "      <th>2</th>\n",
              "      <td>1985</td>\n",
              "      <td>ATL</td>\n",
              "      <td>NL</td>\n",
              "      <td>benedbr01</td>\n",
              "      <td>545000</td>\n",
              "    </tr>\n",
              "    <tr>\n",
              "      <th>3</th>\n",
              "      <td>1985</td>\n",
              "      <td>ATL</td>\n",
              "      <td>NL</td>\n",
              "      <td>campri01</td>\n",
              "      <td>633333</td>\n",
              "    </tr>\n",
              "    <tr>\n",
              "      <th>4</th>\n",
              "      <td>1985</td>\n",
              "      <td>ATL</td>\n",
              "      <td>NL</td>\n",
              "      <td>ceronri01</td>\n",
              "      <td>625000</td>\n",
              "    </tr>\n",
              "  </tbody>\n",
              "</table>\n",
              "</div>"
            ],
            "text/plain": [
              "   yearID teamID lgID   playerID  salary\n",
              "0    1985    ATL   NL  barkele01  870000\n",
              "1    1985    ATL   NL  bedrost01  550000\n",
              "2    1985    ATL   NL  benedbr01  545000\n",
              "3    1985    ATL   NL   campri01  633333\n",
              "4    1985    ATL   NL  ceronri01  625000"
            ]
          },
          "metadata": {
            "tags": []
          },
          "execution_count": 28
        }
      ]
    },
    {
      "cell_type": "code",
      "metadata": {
        "id": "eO370JKVtXKA",
        "outputId": "b62a4694-2ece-4042-9cf2-1c24490194c9",
        "colab": {
          "base_uri": "https://localhost:8080/",
          "height": 290
        }
      },
      "source": [
        "vis3 = sns.lineplot(data= salaries, x= 'yearID', y = 'salary')"
      ],
      "execution_count": 56,
      "outputs": [
        {
          "output_type": "display_data",
          "data": {
            "image/png": "[encoded data removed]",
            "text/plain": [
              "<Figure size 432x288 with 1 Axes>"
            ]
          },
          "metadata": {
            "tags": [],
            "needs_background": "light"
          }
        }
      ]
    },
    {
      "cell_type": "code",
      "metadata": {
        "id": "wWSfFZ71_IJy",
        "outputId": "7c2dd07e-af1e-4063-e953-8bde4cae5036",
        "colab": {
          "base_uri": "https://localhost:8080/",
          "height": 307
        }
      },
      "source": [
        "sns.barplot(x='lgID', y= 'salary', data = salaries)"
      ],
      "execution_count": 83,
      "outputs": [
        {
          "output_type": "execute_result",
          "data": {
            "text/plain": [
              "<matplotlib.axes._subplots.AxesSubplot at 0x7f10e9de7b70>"
            ]
          },
          "metadata": {
            "tags": []
          },
          "execution_count": 83
        },
        {
          "output_type": "display_data",
          "data": {
            "image/png": "[encoded data removed]",
            "text/plain": [
              "<Figure size 432x288 with 1 Axes>"
            ]
          },
          "metadata": {
            "tags": [],
            "needs_background": "light"
          }
        }
      ]
    }
  ]
}