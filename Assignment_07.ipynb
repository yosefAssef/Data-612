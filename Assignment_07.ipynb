{
  "nbformat": 4,
  "nbformat_minor": 0,
  "metadata": {
    "colab": {
      "name": "Assignment_07.ipynb",
      "provenance": [],
      "collapsed_sections": []
    },
    "kernelspec": {
      "name": "python3",
      "display_name": "Python 3"
    }
  },
  "cells": [
    {
      "cell_type": "markdown",
      "metadata": {
        "id": "XBfg9Dn0oX11"
      },
      "source": [
        "# Assignment for Week 7"
      ]
    },
    {
      "cell_type": "code",
      "metadata": {
        "id": "TaYHEGOeq6vN"
      },
      "source": [
        "def get_data_table(df, date_col, group_col, type_x):\n",
        "    df_gross = (df.loc[(df.type == type_x) &\n",
        "                                      df.category.isin(['category_x', 'category_xy', 'category_xyz'])\n",
        "                                     ]\n",
        "                         .groupby([group_col, date_col]).sum()\n",
        "                         .unstack(date_col)['amount'].fillna(0)\n",
        "                         .resample('M', axis=1).sum()\n",
        "                        )\n",
        "\n",
        "    df_recovered = (df.loc[(df.type == type_x) &\n",
        "                                  df.category.isin(['category_01', 'category_05', 'category_07'])\n",
        "                                 ]\n",
        "                    .groupby([group_col, date_col]).sum()\n",
        "                    .unstack(date_col)['amount'].fillna(0)\n",
        "                    .resample('M', axis=1).sum()\n",
        "                    )\n",
        "\n",
        "    return df_gross.add(df_recovered * -1, fill_value=0)\n",
        "    "
      ],
      "execution_count": null,
      "outputs": []
    },
    {
      "cell_type": "markdown",
      "metadata": {
        "id": "JoCfX0RK0V_t"
      },
      "source": [
        "**1**\n",
        "#The get_data_table function takes four parameters. Inside this user defined function. loc property is used to access a group of rows and columns, .isin is used to filter data frames by selecting particular values form specific columns .groupby function is used to split data into groups based on data columns .unstack is used to reshaped data frame and .resample is used to summarize and aggregate time series data \n",
        "\n",
        "\n",
        "\n"
      ]
    },
    {
      "cell_type": "code",
      "metadata": {
        "id": "DoyXW006h8Rf"
      },
      "source": [
        " import pandas as pd "
      ],
      "execution_count": 133,
      "outputs": []
    },
    {
      "cell_type": "code",
      "metadata": {
        "id": "Gb7Ce2thvPPr",
        "outputId": "76657ead-0284-4ecd-9e35-bc4b042fb07b",
        "colab": {
          "base_uri": "https://localhost:8080/",
          "height": 690
        }
      },
      "source": [
        "df = pd.read_csv('https://raw.githubusercontent.com/frankData612/data_612/master/stock_data/stocks_yahoo.csv',parse_dates=['date'] )\n",
        "df.head(5)"
      ],
      "execution_count": 158,
      "outputs": [
        {
          "output_type": "stream",
          "text": [
            "/usr/local/lib/python3.6/dist-packages/IPython/core/interactiveshell.py:2718: DtypeWarning: Columns (10) have mixed types.Specify dtype option on import or set low_memory=False.\n",
            "  interactivity=interactivity, compiler=compiler, result=result)\n"
          ],
          "name": "stderr"
        },
        {
          "output_type": "execute_result",
          "data": {
            "text/html": [
              "<div>\n",
              "<style scoped>\n",
              "    .dataframe tbody tr th:only-of-type {\n",
              "        vertical-align: middle;\n",
              "    }\n",
              "\n",
              "    .dataframe tbody tr th {\n",
              "        vertical-align: top;\n",
              "    }\n",
              "\n",
              "    .dataframe thead th {\n",
              "        text-align: right;\n",
              "    }\n",
              "</style>\n",
              "<table border=\"1\" class=\"dataframe\">\n",
              "  <thead>\n",
              "    <tr style=\"text-align: right;\">\n",
              "      <th></th>\n",
              "      <th>no</th>\n",
              "      <th>date</th>\n",
              "      <th>company_name</th>\n",
              "      <th>price_at_close</th>\n",
              "      <th>price_change</th>\n",
              "      <th>price_after_hours</th>\n",
              "      <th>previous_close</th>\n",
              "      <th>today opened</th>\n",
              "      <th>price range</th>\n",
              "      <th>52 week range</th>\n",
              "      <th>volume</th>\n",
              "      <th>average volume</th>\n",
              "      <th>market cap</th>\n",
              "      <th>beta (3Y Monthly)</th>\n",
              "      <th>PE Ratio</th>\n",
              "      <th>EPS</th>\n",
              "      <th>earnings date</th>\n",
              "      <th>Dividend Yield</th>\n",
              "      <th>1Y target est</th>\n",
              "    </tr>\n",
              "  </thead>\n",
              "  <tbody>\n",
              "    <tr>\n",
              "      <th>0</th>\n",
              "      <td>1</td>\n",
              "      <td>2019-11-21</td>\n",
              "      <td>GOOG - Alphabet Inc.</td>\n",
              "      <td>1301.35</td>\n",
              "      <td>-1.70 (-0.13%)</td>\n",
              "      <td>1301.35</td>\n",
              "      <td>1303.05</td>\n",
              "      <td>1301.48</td>\n",
              "      <td>1,293.01 - 1,312.45</td>\n",
              "      <td>970.11 - 1,335.53</td>\n",
              "      <td>825205</td>\n",
              "      <td>1280155.0</td>\n",
              "      <td>897.113B</td>\n",
              "      <td>1.01</td>\n",
              "      <td>27.93</td>\n",
              "      <td>46.60</td>\n",
              "      <td>NaN</td>\n",
              "      <td>N/A (N/A)</td>\n",
              "      <td>1487.52</td>\n",
              "    </tr>\n",
              "    <tr>\n",
              "      <th>1</th>\n",
              "      <td>2</td>\n",
              "      <td>2019-11-21</td>\n",
              "      <td>GOOGL - Alphabet Inc.</td>\n",
              "      <td>1300.14</td>\n",
              "      <td>-1.72 (-0.13%)</td>\n",
              "      <td>1300.14</td>\n",
              "      <td>1301.86</td>\n",
              "      <td>1299.25</td>\n",
              "      <td>1,290.75 - 1,311.04</td>\n",
              "      <td>977.66 - 1,333.92</td>\n",
              "      <td>1.05818e+06</td>\n",
              "      <td>1296875.0</td>\n",
              "      <td>897.098B</td>\n",
              "      <td>1.01</td>\n",
              "      <td>27.90</td>\n",
              "      <td>46.60</td>\n",
              "      <td>Feb 3, 2020 - Feb 7, 2020</td>\n",
              "      <td>N/A (N/A)</td>\n",
              "      <td>1459.33</td>\n",
              "    </tr>\n",
              "    <tr>\n",
              "      <th>2</th>\n",
              "      <td>3</td>\n",
              "      <td>2019-11-21</td>\n",
              "      <td>IBM - International Business Machines Corporation</td>\n",
              "      <td>133.84</td>\n",
              "      <td>+0.64 (+0.48%)</td>\n",
              "      <td>133.84</td>\n",
              "      <td>133.20</td>\n",
              "      <td>133.40</td>\n",
              "      <td>132.98 - 134.17</td>\n",
              "      <td>105.94 - 152.95</td>\n",
              "      <td>2.73226e+06</td>\n",
              "      <td>3483052.0</td>\n",
              "      <td>118.534B</td>\n",
              "      <td>1.34</td>\n",
              "      <td>15.55</td>\n",
              "      <td>8.60</td>\n",
              "      <td>21-Jan-20</td>\n",
              "      <td>6.48 (4.86%)</td>\n",
              "      <td>148.30</td>\n",
              "    </tr>\n",
              "    <tr>\n",
              "      <th>3</th>\n",
              "      <td>4</td>\n",
              "      <td>2019-11-21</td>\n",
              "      <td>MSFT - Microsoft Corporation</td>\n",
              "      <td>149.48</td>\n",
              "      <td>-0.14 (-0.09%)</td>\n",
              "      <td>149.48</td>\n",
              "      <td>149.62</td>\n",
              "      <td>149.40</td>\n",
              "      <td>148.51 - 149.80</td>\n",
              "      <td>93.96 - 151.33</td>\n",
              "      <td>1.61251e+07</td>\n",
              "      <td>22813109.0</td>\n",
              "      <td>1.14T</td>\n",
              "      <td>1.23</td>\n",
              "      <td>28.20</td>\n",
              "      <td>5.30</td>\n",
              "      <td>Jan 28, 2020 - Feb 3, 2020</td>\n",
              "      <td>2.04 (1.36%)</td>\n",
              "      <td>160.16</td>\n",
              "    </tr>\n",
              "    <tr>\n",
              "      <th>4</th>\n",
              "      <td>5</td>\n",
              "      <td>2019-11-21</td>\n",
              "      <td>AAPL - Apple Inc.</td>\n",
              "      <td>262.01</td>\n",
              "      <td>-1.18 (-0.45%)</td>\n",
              "      <td>262.01</td>\n",
              "      <td>263.19</td>\n",
              "      <td>263.69</td>\n",
              "      <td>261.18 - 264.01</td>\n",
              "      <td>142.00 - 268.00</td>\n",
              "      <td>2.87681e+07</td>\n",
              "      <td>25813040.0</td>\n",
              "      <td>1.184T</td>\n",
              "      <td>1.25</td>\n",
              "      <td>22.04</td>\n",
              "      <td>11.89</td>\n",
              "      <td>Jan 27, 2020 - Jan 31, 2020</td>\n",
              "      <td>3.08 (1.16%)</td>\n",
              "      <td>257.21</td>\n",
              "    </tr>\n",
              "  </tbody>\n",
              "</table>\n",
              "</div>"
            ],
            "text/plain": [
              "   no       date  ... Dividend Yield  1Y target est\n",
              "0   1 2019-11-21  ...      N/A (N/A)        1487.52\n",
              "1   2 2019-11-21  ...      N/A (N/A)        1459.33\n",
              "2   3 2019-11-21  ...   6.48 (4.86%)         148.30\n",
              "3   4 2019-11-21  ...   2.04 (1.36%)         160.16\n",
              "4   5 2019-11-21  ...   3.08 (1.16%)         257.21\n",
              "\n",
              "[5 rows x 19 columns]"
            ]
          },
          "metadata": {
            "tags": []
          },
          "execution_count": 158
        }
      ]
    },
    {
      "cell_type": "code",
      "metadata": {
        "id": "ed7C9r7U4Oo5",
        "outputId": "e3552f52-c962-425f-a026-e215bb78b283",
        "colab": {
          "base_uri": "https://localhost:8080/"
        }
      },
      "source": [
        "type(df.date[0])"
      ],
      "execution_count": 135,
      "outputs": [
        {
          "output_type": "execute_result",
          "data": {
            "text/plain": [
              "pandas._libs.tslibs.timestamps.Timestamp"
            ]
          },
          "metadata": {
            "tags": []
          },
          "execution_count": 135
        }
      ]
    },
    {
      "cell_type": "code",
      "metadata": {
        "id": "4i49jgtsv-Vm",
        "outputId": "b45c8e00-d71b-499b-834c-dc564b0c3d67",
        "colab": {
          "base_uri": "https://localhost:8080/",
          "height": 458
        }
      },
      "source": [
        "\n",
        "step_1 = df.loc[(df.date =='2020-04-28') & df.company_name.isin(['GOOG - Alphabet Inc.', 'JPM - JPMorgan Chase & Co.', 'MSFT - Microsoft Corporation'])]\n",
        "step_1"
      ],
      "execution_count": 152,
      "outputs": [
        {
          "output_type": "execute_result",
          "data": {
            "text/html": [
              "<div>\n",
              "<style scoped>\n",
              "    .dataframe tbody tr th:only-of-type {\n",
              "        vertical-align: middle;\n",
              "    }\n",
              "\n",
              "    .dataframe tbody tr th {\n",
              "        vertical-align: top;\n",
              "    }\n",
              "\n",
              "    .dataframe thead th {\n",
              "        text-align: right;\n",
              "    }\n",
              "</style>\n",
              "<table border=\"1\" class=\"dataframe\">\n",
              "  <thead>\n",
              "    <tr style=\"text-align: right;\">\n",
              "      <th></th>\n",
              "      <th>no</th>\n",
              "      <th>date</th>\n",
              "      <th>company_name</th>\n",
              "      <th>price_at_close</th>\n",
              "      <th>price_change</th>\n",
              "      <th>price_after_hours</th>\n",
              "      <th>previous_close</th>\n",
              "      <th>today opened</th>\n",
              "      <th>price range</th>\n",
              "      <th>52 week range</th>\n",
              "      <th>volume</th>\n",
              "      <th>average volume</th>\n",
              "      <th>market cap</th>\n",
              "      <th>beta (3Y Monthly)</th>\n",
              "      <th>PE Ratio</th>\n",
              "      <th>EPS</th>\n",
              "      <th>earnings date</th>\n",
              "      <th>Dividend Yield</th>\n",
              "      <th>1Y target est</th>\n",
              "    </tr>\n",
              "  </thead>\n",
              "  <tbody>\n",
              "    <tr>\n",
              "      <th>66999</th>\n",
              "      <td>67000</td>\n",
              "      <td>2020-04-28</td>\n",
              "      <td>GOOG - Alphabet Inc.</td>\n",
              "      <td>1233.67</td>\n",
              "      <td>-42.21 (-3.31%)</td>\n",
              "      <td>1233.67</td>\n",
              "      <td>1275.88</td>\n",
              "      <td>1287.93</td>\n",
              "      <td>1,232.20 - 1,288.00</td>\n",
              "      <td>1,013.54 - 1,532.11</td>\n",
              "      <td>2951309.00</td>\n",
              "      <td>2409953.0</td>\n",
              "      <td>846.385B</td>\n",
              "      <td>1.05</td>\n",
              "      <td>25.09</td>\n",
              "      <td>49.16</td>\n",
              "      <td>NaN</td>\n",
              "      <td>N/A (N/A)</td>\n",
              "      <td>1497.90</td>\n",
              "    </tr>\n",
              "    <tr>\n",
              "      <th>67002</th>\n",
              "      <td>67003</td>\n",
              "      <td>2020-04-28</td>\n",
              "      <td>MSFT - Microsoft Corporation</td>\n",
              "      <td>169.81</td>\n",
              "      <td>-4.24 (-2.44%)</td>\n",
              "      <td>169.81</td>\n",
              "      <td>174.05</td>\n",
              "      <td>175.59</td>\n",
              "      <td>169.39 - 175.67</td>\n",
              "      <td>119.01 - 190.70</td>\n",
              "      <td>34392694.00</td>\n",
              "      <td>55443419.0</td>\n",
              "      <td>1.292T</td>\n",
              "      <td>0.96</td>\n",
              "      <td>29.58</td>\n",
              "      <td>5.74</td>\n",
              "      <td>29-Apr-20</td>\n",
              "      <td>2.04 (1.17%)</td>\n",
              "      <td>186.61</td>\n",
              "    </tr>\n",
              "    <tr>\n",
              "      <th>67016</th>\n",
              "      <td>67017</td>\n",
              "      <td>2020-04-28</td>\n",
              "      <td>JPM - JPMorgan Chase &amp; Co.</td>\n",
              "      <td>95.29</td>\n",
              "      <td>+0.67 (+0.71%)</td>\n",
              "      <td>95.29</td>\n",
              "      <td>94.62</td>\n",
              "      <td>97.81</td>\n",
              "      <td>95.03 - 98.36</td>\n",
              "      <td>76.91 - 141.10</td>\n",
              "      <td>20218832.00</td>\n",
              "      <td>23673941.0</td>\n",
              "      <td>290.305B</td>\n",
              "      <td>1.29</td>\n",
              "      <td>10.71</td>\n",
              "      <td>8.90</td>\n",
              "      <td>14-Jul-20</td>\n",
              "      <td>3.60 (3.80%)</td>\n",
              "      <td>105.67</td>\n",
              "    </tr>\n",
              "  </tbody>\n",
              "</table>\n",
              "</div>"
            ],
            "text/plain": [
              "          no       date  ... Dividend Yield  1Y target est\n",
              "66999  67000 2020-04-28  ...      N/A (N/A)        1497.90\n",
              "67002  67003 2020-04-28  ...   2.04 (1.17%)         186.61\n",
              "67016  67017 2020-04-28  ...   3.60 (3.80%)         105.67\n",
              "\n",
              "[3 rows x 19 columns]"
            ]
          },
          "metadata": {
            "tags": []
          },
          "execution_count": 152
        }
      ]
    },
    {
      "cell_type": "code",
      "metadata": {
        "id": "QRcw1XjMKQJZ",
        "outputId": "5f5ddec7-b6c9-419a-80c1-52dd13528c50",
        "colab": {
          "base_uri": "https://localhost:8080/",
          "height": 432
        }
      },
      "source": [
        "step_2 = step_1.groupby(['company_name', 'date']).sum()\n",
        "step_2"
      ],
      "execution_count": 153,
      "outputs": [
        {
          "output_type": "execute_result",
          "data": {
            "text/html": [
              "<div>\n",
              "<style scoped>\n",
              "    .dataframe tbody tr th:only-of-type {\n",
              "        vertical-align: middle;\n",
              "    }\n",
              "\n",
              "    .dataframe tbody tr th {\n",
              "        vertical-align: top;\n",
              "    }\n",
              "\n",
              "    .dataframe thead th {\n",
              "        text-align: right;\n",
              "    }\n",
              "</style>\n",
              "<table border=\"1\" class=\"dataframe\">\n",
              "  <thead>\n",
              "    <tr style=\"text-align: right;\">\n",
              "      <th></th>\n",
              "      <th></th>\n",
              "      <th>no</th>\n",
              "      <th>price_at_close</th>\n",
              "      <th>price_after_hours</th>\n",
              "      <th>previous_close</th>\n",
              "      <th>today opened</th>\n",
              "      <th>average volume</th>\n",
              "      <th>beta (3Y Monthly)</th>\n",
              "      <th>PE Ratio</th>\n",
              "      <th>EPS</th>\n",
              "      <th>1Y target est</th>\n",
              "    </tr>\n",
              "    <tr>\n",
              "      <th>company_name</th>\n",
              "      <th>date</th>\n",
              "      <th></th>\n",
              "      <th></th>\n",
              "      <th></th>\n",
              "      <th></th>\n",
              "      <th></th>\n",
              "      <th></th>\n",
              "      <th></th>\n",
              "      <th></th>\n",
              "      <th></th>\n",
              "      <th></th>\n",
              "    </tr>\n",
              "  </thead>\n",
              "  <tbody>\n",
              "    <tr>\n",
              "      <th>GOOG - Alphabet Inc.</th>\n",
              "      <th>2020-04-28</th>\n",
              "      <td>67000</td>\n",
              "      <td>1233.67</td>\n",
              "      <td>1233.67</td>\n",
              "      <td>1275.88</td>\n",
              "      <td>1287.93</td>\n",
              "      <td>2409953.0</td>\n",
              "      <td>1.05</td>\n",
              "      <td>25.09</td>\n",
              "      <td>49.16</td>\n",
              "      <td>1497.90</td>\n",
              "    </tr>\n",
              "    <tr>\n",
              "      <th>JPM - JPMorgan Chase &amp; Co.</th>\n",
              "      <th>2020-04-28</th>\n",
              "      <td>67017</td>\n",
              "      <td>95.29</td>\n",
              "      <td>95.29</td>\n",
              "      <td>94.62</td>\n",
              "      <td>97.81</td>\n",
              "      <td>23673941.0</td>\n",
              "      <td>1.29</td>\n",
              "      <td>10.71</td>\n",
              "      <td>8.90</td>\n",
              "      <td>105.67</td>\n",
              "    </tr>\n",
              "    <tr>\n",
              "      <th>MSFT - Microsoft Corporation</th>\n",
              "      <th>2020-04-28</th>\n",
              "      <td>67003</td>\n",
              "      <td>169.81</td>\n",
              "      <td>169.81</td>\n",
              "      <td>174.05</td>\n",
              "      <td>175.59</td>\n",
              "      <td>55443419.0</td>\n",
              "      <td>0.96</td>\n",
              "      <td>29.58</td>\n",
              "      <td>5.74</td>\n",
              "      <td>186.61</td>\n",
              "    </tr>\n",
              "  </tbody>\n",
              "</table>\n",
              "</div>"
            ],
            "text/plain": [
              "                                            no  ...  1Y target est\n",
              "company_name                 date               ...               \n",
              "GOOG - Alphabet Inc.         2020-04-28  67000  ...        1497.90\n",
              "JPM - JPMorgan Chase & Co.   2020-04-28  67017  ...         105.67\n",
              "MSFT - Microsoft Corporation 2020-04-28  67003  ...         186.61\n",
              "\n",
              "[3 rows x 10 columns]"
            ]
          },
          "metadata": {
            "tags": []
          },
          "execution_count": 153
        }
      ]
    },
    {
      "cell_type": "code",
      "metadata": {
        "id": "MTEpXJHJb-YV",
        "outputId": "49366f97-3d37-4bcd-c390-889bd5a093e6",
        "colab": {
          "base_uri": "https://localhost:8080/",
          "height": 173
        }
      },
      "source": [
        "step_3 = step_2.unstack('date')['PE Ratio']\n",
        "step_3"
      ],
      "execution_count": 154,
      "outputs": [
        {
          "output_type": "execute_result",
          "data": {
            "text/html": [
              "<div>\n",
              "<style scoped>\n",
              "    .dataframe tbody tr th:only-of-type {\n",
              "        vertical-align: middle;\n",
              "    }\n",
              "\n",
              "    .dataframe tbody tr th {\n",
              "        vertical-align: top;\n",
              "    }\n",
              "\n",
              "    .dataframe thead th {\n",
              "        text-align: right;\n",
              "    }\n",
              "</style>\n",
              "<table border=\"1\" class=\"dataframe\">\n",
              "  <thead>\n",
              "    <tr style=\"text-align: right;\">\n",
              "      <th>date</th>\n",
              "      <th>2020-04-28</th>\n",
              "    </tr>\n",
              "    <tr>\n",
              "      <th>company_name</th>\n",
              "      <th></th>\n",
              "    </tr>\n",
              "  </thead>\n",
              "  <tbody>\n",
              "    <tr>\n",
              "      <th>GOOG - Alphabet Inc.</th>\n",
              "      <td>25.09</td>\n",
              "    </tr>\n",
              "    <tr>\n",
              "      <th>JPM - JPMorgan Chase &amp; Co.</th>\n",
              "      <td>10.71</td>\n",
              "    </tr>\n",
              "    <tr>\n",
              "      <th>MSFT - Microsoft Corporation</th>\n",
              "      <td>29.58</td>\n",
              "    </tr>\n",
              "  </tbody>\n",
              "</table>\n",
              "</div>"
            ],
            "text/plain": [
              "date                          2020-04-28\n",
              "company_name                            \n",
              "GOOG - Alphabet Inc.               25.09\n",
              "JPM - JPMorgan Chase & Co.         10.71\n",
              "MSFT - Microsoft Corporation       29.58"
            ]
          },
          "metadata": {
            "tags": []
          },
          "execution_count": 154
        }
      ]
    },
    {
      "cell_type": "code",
      "metadata": {
        "id": "bEGcGuLoflNd",
        "outputId": "ef242e83-341c-498a-feca-451a78c4431f",
        "colab": {
          "base_uri": "https://localhost:8080/",
          "height": 173
        }
      },
      "source": [
        "step_4 = step_3.resample('M', axis=1).sum()\n",
        "step_4 "
      ],
      "execution_count": 155,
      "outputs": [
        {
          "output_type": "execute_result",
          "data": {
            "text/html": [
              "<div>\n",
              "<style scoped>\n",
              "    .dataframe tbody tr th:only-of-type {\n",
              "        vertical-align: middle;\n",
              "    }\n",
              "\n",
              "    .dataframe tbody tr th {\n",
              "        vertical-align: top;\n",
              "    }\n",
              "\n",
              "    .dataframe thead th {\n",
              "        text-align: right;\n",
              "    }\n",
              "</style>\n",
              "<table border=\"1\" class=\"dataframe\">\n",
              "  <thead>\n",
              "    <tr style=\"text-align: right;\">\n",
              "      <th>date</th>\n",
              "      <th>2020-04-30</th>\n",
              "    </tr>\n",
              "    <tr>\n",
              "      <th>company_name</th>\n",
              "      <th></th>\n",
              "    </tr>\n",
              "  </thead>\n",
              "  <tbody>\n",
              "    <tr>\n",
              "      <th>GOOG - Alphabet Inc.</th>\n",
              "      <td>25.09</td>\n",
              "    </tr>\n",
              "    <tr>\n",
              "      <th>JPM - JPMorgan Chase &amp; Co.</th>\n",
              "      <td>10.71</td>\n",
              "    </tr>\n",
              "    <tr>\n",
              "      <th>MSFT - Microsoft Corporation</th>\n",
              "      <td>29.58</td>\n",
              "    </tr>\n",
              "  </tbody>\n",
              "</table>\n",
              "</div>"
            ],
            "text/plain": [
              "date                          2020-04-30\n",
              "company_name                            \n",
              "GOOG - Alphabet Inc.               25.09\n",
              "JPM - JPMorgan Chase & Co.         10.71\n",
              "MSFT - Microsoft Corporation       29.58"
            ]
          },
          "metadata": {
            "tags": []
          },
          "execution_count": 155
        }
      ]
    },
    {
      "cell_type": "code",
      "metadata": {
        "id": "CNDwIIVe80Z8",
        "outputId": "e1bfb108-49ae-44b9-9ca1-845f35acc5cf",
        "colab": {
          "base_uri": "https://localhost:8080/",
          "height": 475
        }
      },
      "source": [
        "ste_2_1 = df.loc[(df.date =='2019-11-21\t') & df.company_name.isin(['GOOG - Alphabet Inc.', 'JPM - JPMorgan Chase & Co.', 'MSFT - Microsoft Corporation'])]\n",
        "ste_2_1"
      ],
      "execution_count": 159,
      "outputs": [
        {
          "output_type": "execute_result",
          "data": {
            "text/html": [
              "<div>\n",
              "<style scoped>\n",
              "    .dataframe tbody tr th:only-of-type {\n",
              "        vertical-align: middle;\n",
              "    }\n",
              "\n",
              "    .dataframe tbody tr th {\n",
              "        vertical-align: top;\n",
              "    }\n",
              "\n",
              "    .dataframe thead th {\n",
              "        text-align: right;\n",
              "    }\n",
              "</style>\n",
              "<table border=\"1\" class=\"dataframe\">\n",
              "  <thead>\n",
              "    <tr style=\"text-align: right;\">\n",
              "      <th></th>\n",
              "      <th>no</th>\n",
              "      <th>date</th>\n",
              "      <th>company_name</th>\n",
              "      <th>price_at_close</th>\n",
              "      <th>price_change</th>\n",
              "      <th>price_after_hours</th>\n",
              "      <th>previous_close</th>\n",
              "      <th>today opened</th>\n",
              "      <th>price range</th>\n",
              "      <th>52 week range</th>\n",
              "      <th>volume</th>\n",
              "      <th>average volume</th>\n",
              "      <th>market cap</th>\n",
              "      <th>beta (3Y Monthly)</th>\n",
              "      <th>PE Ratio</th>\n",
              "      <th>EPS</th>\n",
              "      <th>earnings date</th>\n",
              "      <th>Dividend Yield</th>\n",
              "      <th>1Y target est</th>\n",
              "    </tr>\n",
              "  </thead>\n",
              "  <tbody>\n",
              "    <tr>\n",
              "      <th>0</th>\n",
              "      <td>1</td>\n",
              "      <td>2019-11-21</td>\n",
              "      <td>GOOG - Alphabet Inc.</td>\n",
              "      <td>1301.35</td>\n",
              "      <td>-1.70 (-0.13%)</td>\n",
              "      <td>1301.35</td>\n",
              "      <td>1303.05</td>\n",
              "      <td>1301.48</td>\n",
              "      <td>1,293.01 - 1,312.45</td>\n",
              "      <td>970.11 - 1,335.53</td>\n",
              "      <td>825205</td>\n",
              "      <td>1280155.0</td>\n",
              "      <td>897.113B</td>\n",
              "      <td>1.01</td>\n",
              "      <td>27.93</td>\n",
              "      <td>46.60</td>\n",
              "      <td>NaN</td>\n",
              "      <td>N/A (N/A)</td>\n",
              "      <td>1487.52</td>\n",
              "    </tr>\n",
              "    <tr>\n",
              "      <th>3</th>\n",
              "      <td>4</td>\n",
              "      <td>2019-11-21</td>\n",
              "      <td>MSFT - Microsoft Corporation</td>\n",
              "      <td>149.48</td>\n",
              "      <td>-0.14 (-0.09%)</td>\n",
              "      <td>149.48</td>\n",
              "      <td>149.62</td>\n",
              "      <td>149.40</td>\n",
              "      <td>148.51 - 149.80</td>\n",
              "      <td>93.96 - 151.33</td>\n",
              "      <td>1.61251e+07</td>\n",
              "      <td>22813109.0</td>\n",
              "      <td>1.14T</td>\n",
              "      <td>1.23</td>\n",
              "      <td>28.20</td>\n",
              "      <td>5.30</td>\n",
              "      <td>Jan 28, 2020 - Feb 3, 2020</td>\n",
              "      <td>2.04 (1.36%)</td>\n",
              "      <td>160.16</td>\n",
              "    </tr>\n",
              "    <tr>\n",
              "      <th>9</th>\n",
              "      <td>10</td>\n",
              "      <td>2019-11-21</td>\n",
              "      <td>JPM - JPMorgan Chase &amp; Co.</td>\n",
              "      <td>129.93</td>\n",
              "      <td>+0.30 (+0.23%)</td>\n",
              "      <td>129.93</td>\n",
              "      <td>129.63</td>\n",
              "      <td>130.00</td>\n",
              "      <td>129.39 - 130.72</td>\n",
              "      <td>91.11 - 131.29</td>\n",
              "      <td>7.03661e+06</td>\n",
              "      <td>10913607.0</td>\n",
              "      <td>407.523B</td>\n",
              "      <td>1.20</td>\n",
              "      <td>12.83</td>\n",
              "      <td>10.13</td>\n",
              "      <td>14-Jan-20</td>\n",
              "      <td>3.60 (2.78%)</td>\n",
              "      <td>123.71</td>\n",
              "    </tr>\n",
              "  </tbody>\n",
              "</table>\n",
              "</div>"
            ],
            "text/plain": [
              "   no       date  ... Dividend Yield  1Y target est\n",
              "0   1 2019-11-21  ...      N/A (N/A)        1487.52\n",
              "3   4 2019-11-21  ...   2.04 (1.36%)         160.16\n",
              "9  10 2019-11-21  ...   3.60 (2.78%)         123.71\n",
              "\n",
              "[3 rows x 19 columns]"
            ]
          },
          "metadata": {
            "tags": []
          },
          "execution_count": 159
        }
      ]
    },
    {
      "cell_type": "code",
      "metadata": {
        "id": "bdl62FZ6l59o",
        "outputId": "e02abea6-7b52-4d13-b31d-1557d7ce17e5",
        "colab": {
          "base_uri": "https://localhost:8080/",
          "height": 432
        }
      },
      "source": [
        "ste_2_2 = ste_2_1.groupby(['company_name', 'date']).sum()\n",
        "ste_2_2"
      ],
      "execution_count": 160,
      "outputs": [
        {
          "output_type": "execute_result",
          "data": {
            "text/html": [
              "<div>\n",
              "<style scoped>\n",
              "    .dataframe tbody tr th:only-of-type {\n",
              "        vertical-align: middle;\n",
              "    }\n",
              "\n",
              "    .dataframe tbody tr th {\n",
              "        vertical-align: top;\n",
              "    }\n",
              "\n",
              "    .dataframe thead th {\n",
              "        text-align: right;\n",
              "    }\n",
              "</style>\n",
              "<table border=\"1\" class=\"dataframe\">\n",
              "  <thead>\n",
              "    <tr style=\"text-align: right;\">\n",
              "      <th></th>\n",
              "      <th></th>\n",
              "      <th>no</th>\n",
              "      <th>price_at_close</th>\n",
              "      <th>price_after_hours</th>\n",
              "      <th>previous_close</th>\n",
              "      <th>today opened</th>\n",
              "      <th>average volume</th>\n",
              "      <th>beta (3Y Monthly)</th>\n",
              "      <th>PE Ratio</th>\n",
              "      <th>EPS</th>\n",
              "      <th>1Y target est</th>\n",
              "    </tr>\n",
              "    <tr>\n",
              "      <th>company_name</th>\n",
              "      <th>date</th>\n",
              "      <th></th>\n",
              "      <th></th>\n",
              "      <th></th>\n",
              "      <th></th>\n",
              "      <th></th>\n",
              "      <th></th>\n",
              "      <th></th>\n",
              "      <th></th>\n",
              "      <th></th>\n",
              "      <th></th>\n",
              "    </tr>\n",
              "  </thead>\n",
              "  <tbody>\n",
              "    <tr>\n",
              "      <th>GOOG - Alphabet Inc.</th>\n",
              "      <th>2019-11-21</th>\n",
              "      <td>1</td>\n",
              "      <td>1301.35</td>\n",
              "      <td>1301.35</td>\n",
              "      <td>1303.05</td>\n",
              "      <td>1301.48</td>\n",
              "      <td>1280155.0</td>\n",
              "      <td>1.01</td>\n",
              "      <td>27.93</td>\n",
              "      <td>46.60</td>\n",
              "      <td>1487.52</td>\n",
              "    </tr>\n",
              "    <tr>\n",
              "      <th>JPM - JPMorgan Chase &amp; Co.</th>\n",
              "      <th>2019-11-21</th>\n",
              "      <td>10</td>\n",
              "      <td>129.93</td>\n",
              "      <td>129.93</td>\n",
              "      <td>129.63</td>\n",
              "      <td>130.00</td>\n",
              "      <td>10913607.0</td>\n",
              "      <td>1.20</td>\n",
              "      <td>12.83</td>\n",
              "      <td>10.13</td>\n",
              "      <td>123.71</td>\n",
              "    </tr>\n",
              "    <tr>\n",
              "      <th>MSFT - Microsoft Corporation</th>\n",
              "      <th>2019-11-21</th>\n",
              "      <td>4</td>\n",
              "      <td>149.48</td>\n",
              "      <td>149.48</td>\n",
              "      <td>149.62</td>\n",
              "      <td>149.40</td>\n",
              "      <td>22813109.0</td>\n",
              "      <td>1.23</td>\n",
              "      <td>28.20</td>\n",
              "      <td>5.30</td>\n",
              "      <td>160.16</td>\n",
              "    </tr>\n",
              "  </tbody>\n",
              "</table>\n",
              "</div>"
            ],
            "text/plain": [
              "                                         no  ...  1Y target est\n",
              "company_name                 date            ...               \n",
              "GOOG - Alphabet Inc.         2019-11-21   1  ...        1487.52\n",
              "JPM - JPMorgan Chase & Co.   2019-11-21  10  ...         123.71\n",
              "MSFT - Microsoft Corporation 2019-11-21   4  ...         160.16\n",
              "\n",
              "[3 rows x 10 columns]"
            ]
          },
          "metadata": {
            "tags": []
          },
          "execution_count": 160
        }
      ]
    },
    {
      "cell_type": "code",
      "metadata": {
        "id": "3M-YBNo3mZUr",
        "outputId": "4ae32200-4c5e-46a3-93c2-9d4529483f9d",
        "colab": {
          "base_uri": "https://localhost:8080/",
          "height": 173
        }
      },
      "source": [
        "ste_2_3 =ste_2_2.unstack('date')['PE Ratio']\n",
        "ste_2_3"
      ],
      "execution_count": 161,
      "outputs": [
        {
          "output_type": "execute_result",
          "data": {
            "text/html": [
              "<div>\n",
              "<style scoped>\n",
              "    .dataframe tbody tr th:only-of-type {\n",
              "        vertical-align: middle;\n",
              "    }\n",
              "\n",
              "    .dataframe tbody tr th {\n",
              "        vertical-align: top;\n",
              "    }\n",
              "\n",
              "    .dataframe thead th {\n",
              "        text-align: right;\n",
              "    }\n",
              "</style>\n",
              "<table border=\"1\" class=\"dataframe\">\n",
              "  <thead>\n",
              "    <tr style=\"text-align: right;\">\n",
              "      <th>date</th>\n",
              "      <th>2019-11-21</th>\n",
              "    </tr>\n",
              "    <tr>\n",
              "      <th>company_name</th>\n",
              "      <th></th>\n",
              "    </tr>\n",
              "  </thead>\n",
              "  <tbody>\n",
              "    <tr>\n",
              "      <th>GOOG - Alphabet Inc.</th>\n",
              "      <td>27.93</td>\n",
              "    </tr>\n",
              "    <tr>\n",
              "      <th>JPM - JPMorgan Chase &amp; Co.</th>\n",
              "      <td>12.83</td>\n",
              "    </tr>\n",
              "    <tr>\n",
              "      <th>MSFT - Microsoft Corporation</th>\n",
              "      <td>28.20</td>\n",
              "    </tr>\n",
              "  </tbody>\n",
              "</table>\n",
              "</div>"
            ],
            "text/plain": [
              "date                          2019-11-21\n",
              "company_name                            \n",
              "GOOG - Alphabet Inc.               27.93\n",
              "JPM - JPMorgan Chase & Co.         12.83\n",
              "MSFT - Microsoft Corporation       28.20"
            ]
          },
          "metadata": {
            "tags": []
          },
          "execution_count": 161
        }
      ]
    },
    {
      "cell_type": "code",
      "metadata": {
        "id": "H48iI9rKmmtD",
        "outputId": "4b964d94-3c1f-48b5-f287-5b3dcc2dc3ec",
        "colab": {
          "base_uri": "https://localhost:8080/",
          "height": 173
        }
      },
      "source": [
        "ste_2_4 = ste_2_3.resample('M', axis=1).sum()\n",
        "ste_2_4"
      ],
      "execution_count": 162,
      "outputs": [
        {
          "output_type": "execute_result",
          "data": {
            "text/html": [
              "<div>\n",
              "<style scoped>\n",
              "    .dataframe tbody tr th:only-of-type {\n",
              "        vertical-align: middle;\n",
              "    }\n",
              "\n",
              "    .dataframe tbody tr th {\n",
              "        vertical-align: top;\n",
              "    }\n",
              "\n",
              "    .dataframe thead th {\n",
              "        text-align: right;\n",
              "    }\n",
              "</style>\n",
              "<table border=\"1\" class=\"dataframe\">\n",
              "  <thead>\n",
              "    <tr style=\"text-align: right;\">\n",
              "      <th>date</th>\n",
              "      <th>2019-11-30</th>\n",
              "    </tr>\n",
              "    <tr>\n",
              "      <th>company_name</th>\n",
              "      <th></th>\n",
              "    </tr>\n",
              "  </thead>\n",
              "  <tbody>\n",
              "    <tr>\n",
              "      <th>GOOG - Alphabet Inc.</th>\n",
              "      <td>27.93</td>\n",
              "    </tr>\n",
              "    <tr>\n",
              "      <th>JPM - JPMorgan Chase &amp; Co.</th>\n",
              "      <td>12.83</td>\n",
              "    </tr>\n",
              "    <tr>\n",
              "      <th>MSFT - Microsoft Corporation</th>\n",
              "      <td>28.20</td>\n",
              "    </tr>\n",
              "  </tbody>\n",
              "</table>\n",
              "</div>"
            ],
            "text/plain": [
              "date                          2019-11-30\n",
              "company_name                            \n",
              "GOOG - Alphabet Inc.               27.93\n",
              "JPM - JPMorgan Chase & Co.         12.83\n",
              "MSFT - Microsoft Corporation       28.20"
            ]
          },
          "metadata": {
            "tags": []
          },
          "execution_count": 162
        }
      ]
    },
    {
      "cell_type": "code",
      "metadata": {
        "id": "jyfFoYfLQRsQ",
        "outputId": "d3760c56-f61b-456e-b46c-13d63a385c33",
        "colab": {
          "base_uri": "https://localhost:8080/",
          "height": 173
        }
      },
      "source": [
        "final =  step_4.add(ste_2_4 * -1, fill_value=0)\n",
        "final"
      ],
      "execution_count": 163,
      "outputs": [
        {
          "output_type": "execute_result",
          "data": {
            "text/html": [
              "<div>\n",
              "<style scoped>\n",
              "    .dataframe tbody tr th:only-of-type {\n",
              "        vertical-align: middle;\n",
              "    }\n",
              "\n",
              "    .dataframe tbody tr th {\n",
              "        vertical-align: top;\n",
              "    }\n",
              "\n",
              "    .dataframe thead th {\n",
              "        text-align: right;\n",
              "    }\n",
              "</style>\n",
              "<table border=\"1\" class=\"dataframe\">\n",
              "  <thead>\n",
              "    <tr style=\"text-align: right;\">\n",
              "      <th>date</th>\n",
              "      <th>2019-11-30</th>\n",
              "      <th>2020-04-30</th>\n",
              "    </tr>\n",
              "    <tr>\n",
              "      <th>company_name</th>\n",
              "      <th></th>\n",
              "      <th></th>\n",
              "    </tr>\n",
              "  </thead>\n",
              "  <tbody>\n",
              "    <tr>\n",
              "      <th>GOOG - Alphabet Inc.</th>\n",
              "      <td>-27.93</td>\n",
              "      <td>25.09</td>\n",
              "    </tr>\n",
              "    <tr>\n",
              "      <th>JPM - JPMorgan Chase &amp; Co.</th>\n",
              "      <td>-12.83</td>\n",
              "      <td>10.71</td>\n",
              "    </tr>\n",
              "    <tr>\n",
              "      <th>MSFT - Microsoft Corporation</th>\n",
              "      <td>-28.20</td>\n",
              "      <td>29.58</td>\n",
              "    </tr>\n",
              "  </tbody>\n",
              "</table>\n",
              "</div>"
            ],
            "text/plain": [
              "date                          2019-11-30  2020-04-30\n",
              "company_name                                        \n",
              "GOOG - Alphabet Inc.              -27.93       25.09\n",
              "JPM - JPMorgan Chase & Co.        -12.83       10.71\n",
              "MSFT - Microsoft Corporation      -28.20       29.58"
            ]
          },
          "metadata": {
            "tags": []
          },
          "execution_count": 163
        }
      ]
    },
    {
      "cell_type": "markdown",
      "metadata": {
        "id": "OaXdifet0G0o"
      },
      "source": [
        "#One of the challenges when I applied the function is finding the right data frame that have data time as well as converting the date columns to index of the data frame. Another challenge is not able to apply the data frame into the given user defined function, Therefor I have to apply the functioning separately line by line."
      ]
    },
    {
      "cell_type": "markdown",
      "metadata": {
        "id": "3Z3KIPaWtEXv"
      },
      "source": [
        " Tasks   \n",
        "  1. Read the function above and in a 1-3 paragraphs explain its purpose    \n",
        "\n",
        "  2. Apply the function to your selected dataframe and modify as needed based on your preferences.    \n",
        "\n",
        "  3. Write 1-3 paragraphs to explain the differences or challenges when you applied the function to your chosen dataframe.\n",
        "\n",
        "  4. Post your version of the above code on your GitHub account. Do not forget a README file with explanations.\n",
        "\n",
        "\n"
      ]
    }
  ]
}