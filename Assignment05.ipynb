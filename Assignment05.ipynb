{
  "nbformat": 4,
  "nbformat_minor": 0,
  "metadata": {
    "colab": {
      "name": "Assignment05.ipynb",
      "provenance": [],
      "collapsed_sections": []
    },
    "kernelspec": {
      "name": "python3",
      "display_name": "Python 3"
    }
  },
  "cells": [
    {
      "cell_type": "markdown",
      "metadata": {
        "id": "PVPwSURJLrm5"
      },
      "source": [
        "# Assignment for Week 5      \n",
        "(Chapter 6 & 7)"
      ]
    },
    {
      "cell_type": "markdown",
      "metadata": {
        "id": "oxOFlqNrMDvt"
      },
      "source": [
        "## Purpose:\n",
        "This assignment is intended to help you do the following:       \n",
        "1.\tDifferentiate between categorical and non-categorical variables\n",
        "2.\tConvert variables from one type to another\n",
        "3.\tFamiliarize with strings\n"
      ]
    },
    {
      "cell_type": "markdown",
      "metadata": {
        "id": "rzBeh3W4MEzh"
      },
      "source": [
        "## Action Items:      \n",
        "•\tConvert data\n",
        "1. Work on your selected data set and covert a column of non-categorical type into a categorical type. \n",
        "2. Convert another column into a string type. \n",
        "3. Post your work on GitHub\n",
        "4. Add a README file\n"
      ]
    },
    {
      "cell_type": "code",
      "metadata": {
        "id": "OwqCuxgnLNlG"
      },
      "source": [
        "import pandas as pd \n",
        "import seaborn as sns"
      ],
      "execution_count": 28,
      "outputs": []
    },
    {
      "cell_type": "code",
      "metadata": {
        "id": "zmA1v6sWM9UU"
      },
      "source": [
        "baseball = pd.read_csv('https://raw.githubusercontent.com/frankData612/data_612/master/baseballdatabank-master/core/HallOfFame.csv')"
      ],
      "execution_count": 73,
      "outputs": []
    },
    {
      "cell_type": "code",
      "metadata": {
        "id": "nE5NMCFnFh4g",
        "outputId": "0920bc33-d06d-4e26-e634-100b7eded910",
        "colab": {
          "base_uri": "https://localhost:8080/",
          "height": 204
        }
      },
      "source": [
        "baseball.head(5)"
      ],
      "execution_count": 74,
      "outputs": [
        {
          "output_type": "execute_result",
          "data": {
            "text/html": [
              "<div>\n",
              "<style scoped>\n",
              "    .dataframe tbody tr th:only-of-type {\n",
              "        vertical-align: middle;\n",
              "    }\n",
              "\n",
              "    .dataframe tbody tr th {\n",
              "        vertical-align: top;\n",
              "    }\n",
              "\n",
              "    .dataframe thead th {\n",
              "        text-align: right;\n",
              "    }\n",
              "</style>\n",
              "<table border=\"1\" class=\"dataframe\">\n",
              "  <thead>\n",
              "    <tr style=\"text-align: right;\">\n",
              "      <th></th>\n",
              "      <th>playerID</th>\n",
              "      <th>yearID</th>\n",
              "      <th>votedBy</th>\n",
              "      <th>ballots</th>\n",
              "      <th>needed</th>\n",
              "      <th>votes</th>\n",
              "      <th>inducted</th>\n",
              "      <th>category</th>\n",
              "      <th>needed_note</th>\n",
              "    </tr>\n",
              "  </thead>\n",
              "  <tbody>\n",
              "    <tr>\n",
              "      <th>0</th>\n",
              "      <td>cobbty01</td>\n",
              "      <td>1936</td>\n",
              "      <td>BBWAA</td>\n",
              "      <td>226.0</td>\n",
              "      <td>170.0</td>\n",
              "      <td>222.0</td>\n",
              "      <td>Y</td>\n",
              "      <td>Player</td>\n",
              "      <td>NaN</td>\n",
              "    </tr>\n",
              "    <tr>\n",
              "      <th>1</th>\n",
              "      <td>ruthba01</td>\n",
              "      <td>1936</td>\n",
              "      <td>BBWAA</td>\n",
              "      <td>226.0</td>\n",
              "      <td>170.0</td>\n",
              "      <td>215.0</td>\n",
              "      <td>Y</td>\n",
              "      <td>Player</td>\n",
              "      <td>NaN</td>\n",
              "    </tr>\n",
              "    <tr>\n",
              "      <th>2</th>\n",
              "      <td>wagneho01</td>\n",
              "      <td>1936</td>\n",
              "      <td>BBWAA</td>\n",
              "      <td>226.0</td>\n",
              "      <td>170.0</td>\n",
              "      <td>215.0</td>\n",
              "      <td>Y</td>\n",
              "      <td>Player</td>\n",
              "      <td>NaN</td>\n",
              "    </tr>\n",
              "    <tr>\n",
              "      <th>3</th>\n",
              "      <td>mathech01</td>\n",
              "      <td>1936</td>\n",
              "      <td>BBWAA</td>\n",
              "      <td>226.0</td>\n",
              "      <td>170.0</td>\n",
              "      <td>205.0</td>\n",
              "      <td>Y</td>\n",
              "      <td>Player</td>\n",
              "      <td>NaN</td>\n",
              "    </tr>\n",
              "    <tr>\n",
              "      <th>4</th>\n",
              "      <td>johnswa01</td>\n",
              "      <td>1936</td>\n",
              "      <td>BBWAA</td>\n",
              "      <td>226.0</td>\n",
              "      <td>170.0</td>\n",
              "      <td>189.0</td>\n",
              "      <td>Y</td>\n",
              "      <td>Player</td>\n",
              "      <td>NaN</td>\n",
              "    </tr>\n",
              "  </tbody>\n",
              "</table>\n",
              "</div>"
            ],
            "text/plain": [
              "    playerID  yearID votedBy  ballots  ...  votes  inducted category needed_note\n",
              "0   cobbty01    1936   BBWAA    226.0  ...  222.0         Y   Player         NaN\n",
              "1   ruthba01    1936   BBWAA    226.0  ...  215.0         Y   Player         NaN\n",
              "2  wagneho01    1936   BBWAA    226.0  ...  215.0         Y   Player         NaN\n",
              "3  mathech01    1936   BBWAA    226.0  ...  205.0         Y   Player         NaN\n",
              "4  johnswa01    1936   BBWAA    226.0  ...  189.0         Y   Player         NaN\n",
              "\n",
              "[5 rows x 9 columns]"
            ]
          },
          "metadata": {
            "tags": []
          },
          "execution_count": 74
        }
      ]
    },
    {
      "cell_type": "code",
      "metadata": {
        "id": "qHlS7l26NVTp",
        "outputId": "4b0208ef-34d4-4403-f032-bdaaed2b3a9b",
        "colab": {
          "base_uri": "https://localhost:8080/"
        }
      },
      "source": [
        "baseball.dtypes"
      ],
      "execution_count": 75,
      "outputs": [
        {
          "output_type": "execute_result",
          "data": {
            "text/plain": [
              "playerID        object\n",
              "yearID           int64\n",
              "votedBy         object\n",
              "ballots        float64\n",
              "needed         float64\n",
              "votes          float64\n",
              "inducted        object\n",
              "category        object\n",
              "needed_note     object\n",
              "dtype: object"
            ]
          },
          "metadata": {
            "tags": []
          },
          "execution_count": 75
        }
      ]
    },
    {
      "cell_type": "code",
      "metadata": {
        "id": "uXv_pImg1LCq",
        "outputId": "6ff21b27-cf86-4391-d8a5-4fa249a67e8d",
        "colab": {
          "base_uri": "https://localhost:8080/"
        }
      },
      "source": [
        "baseball['inducted'] = baseball['inducted'].astype('category')\n",
        "print(baseball.info())"
      ],
      "execution_count": 76,
      "outputs": [
        {
          "output_type": "stream",
          "text": [
            "<class 'pandas.core.frame.DataFrame'>\n",
            "RangeIndex: 4191 entries, 0 to 4190\n",
            "Data columns (total 9 columns):\n",
            " #   Column       Non-Null Count  Dtype   \n",
            "---  ------       --------------  -----   \n",
            " 0   playerID     4191 non-null   object  \n",
            " 1   yearID       4191 non-null   int64   \n",
            " 2   votedBy      4191 non-null   object  \n",
            " 3   ballots      3994 non-null   float64 \n",
            " 4   needed       3837 non-null   float64 \n",
            " 5   votes        3994 non-null   float64 \n",
            " 6   inducted     4191 non-null   category\n",
            " 7   category     4191 non-null   object  \n",
            " 8   needed_note  157 non-null    object  \n",
            "dtypes: category(1), float64(3), int64(1), object(4)\n",
            "memory usage: 266.2+ KB\n",
            "None\n"
          ],
          "name": "stdout"
        }
      ]
    },
    {
      "cell_type": "code",
      "metadata": {
        "id": "tkv32bRLL5ES",
        "outputId": "d8c64c11-bbab-44b3-b594-fb1cd72a545b",
        "colab": {
          "base_uri": "https://localhost:8080/"
        }
      },
      "source": [
        "baseball['needed'] = baseball['needed'].astype(str)\n",
        "print(baseball.info())"
      ],
      "execution_count": 79,
      "outputs": [
        {
          "output_type": "stream",
          "text": [
            "<class 'pandas.core.frame.DataFrame'>\n",
            "RangeIndex: 4191 entries, 0 to 4190\n",
            "Data columns (total 9 columns):\n",
            " #   Column       Non-Null Count  Dtype   \n",
            "---  ------       --------------  -----   \n",
            " 0   playerID     4191 non-null   object  \n",
            " 1   yearID       4191 non-null   int64   \n",
            " 2   votedBy      4191 non-null   object  \n",
            " 3   ballots      3994 non-null   float64 \n",
            " 4   needed       4191 non-null   object  \n",
            " 5   votes        3994 non-null   float64 \n",
            " 6   inducted     4191 non-null   category\n",
            " 7   category     4191 non-null   object  \n",
            " 8   needed_note  157 non-null    object  \n",
            "dtypes: category(1), float64(2), int64(1), object(5)\n",
            "memory usage: 266.2+ KB\n",
            "None\n"
          ],
          "name": "stdout"
        }
      ]
    }
  ]
}