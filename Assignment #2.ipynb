{
 "cells": [
  {
   "cell_type": "code",
   "execution_count": 86,
   "metadata": {},
   "outputs": [],
   "source": [
    "import pandas as pd \n"
   ]
  },
  {
   "cell_type": "code",
   "execution_count": 87,
   "metadata": {},
   "outputs": [
    {
     "data": {
      "text/html": [
       "<div>\n",
       "<style scoped>\n",
       "    .dataframe tbody tr th:only-of-type {\n",
       "        vertical-align: middle;\n",
       "    }\n",
       "\n",
       "    .dataframe tbody tr th {\n",
       "        vertical-align: top;\n",
       "    }\n",
       "\n",
       "    .dataframe thead th {\n",
       "        text-align: right;\n",
       "    }\n",
       "</style>\n",
       "<table border=\"1\" class=\"dataframe\">\n",
       "  <thead>\n",
       "    <tr style=\"text-align: right;\">\n",
       "      <th></th>\n",
       "      <th>Name</th>\n",
       "      <th>Mark</th>\n",
       "      <th>Class</th>\n",
       "      <th>sex</th>\n",
       "      <th>age</th>\n",
       "      <th>Date_of_birth</th>\n",
       "    </tr>\n",
       "  </thead>\n",
       "  <tbody>\n",
       "    <tr>\n",
       "      <th>0</th>\n",
       "      <td>John Deo</td>\n",
       "      <td>74</td>\n",
       "      <td>math</td>\n",
       "      <td>female</td>\n",
       "      <td>26</td>\n",
       "      <td>1994-01-06</td>\n",
       "    </tr>\n",
       "    <tr>\n",
       "      <th>1</th>\n",
       "      <td>Max Ruin</td>\n",
       "      <td>85</td>\n",
       "      <td>Biology</td>\n",
       "      <td>male</td>\n",
       "      <td>23</td>\n",
       "      <td>1997-05-07</td>\n",
       "    </tr>\n",
       "    <tr>\n",
       "      <th>2</th>\n",
       "      <td>Krish Star</td>\n",
       "      <td>80</td>\n",
       "      <td>chemisty</td>\n",
       "      <td>famale</td>\n",
       "      <td>25</td>\n",
       "      <td>1995-05-02</td>\n",
       "    </tr>\n",
       "    <tr>\n",
       "      <th>3</th>\n",
       "      <td>Alex Jhon</td>\n",
       "      <td>77</td>\n",
       "      <td>History</td>\n",
       "      <td>male</td>\n",
       "      <td>28</td>\n",
       "      <td>1992-10-01</td>\n",
       "    </tr>\n",
       "    <tr>\n",
       "      <th>4</th>\n",
       "      <td>Yosef assefa</td>\n",
       "      <td>91</td>\n",
       "      <td>CS</td>\n",
       "      <td>male</td>\n",
       "      <td>27</td>\n",
       "      <td>1991-01-01</td>\n",
       "    </tr>\n",
       "  </tbody>\n",
       "</table>\n",
       "</div>"
      ],
      "text/plain": [
       "           Name  Mark     Class     sex  age Date_of_birth\n",
       "0      John Deo    74      math  female   26    1994-01-06\n",
       "1      Max Ruin    85   Biology    male   23    1997-05-07\n",
       "2    Krish Star    80  chemisty  famale   25    1995-05-02\n",
       "3     Alex Jhon    77   History    male   28    1992-10-01\n",
       "4  Yosef assefa    91        CS    male   27    1991-01-01"
      ]
     },
     "execution_count": 87,
     "metadata": {},
     "output_type": "execute_result"
    }
   ],
   "source": [
    "student_grade=pd.DataFrame(\n",
    "data={'Name': ['John Deo', 'Max Ruin', 'Krish Star', 'Alex Jhon', 'Yosef assefa'],\n",
    "     'Mark':[74, 85, 80, 77, 91],\n",
    "     'Class': ['math', 'Biology', 'chemisty', 'History','CS'],\n",
    "     'sex':['female', 'male','famale','male','male'],\n",
    "     'age':[26,23,25,28,27],\n",
    "     'Date_of_birth': ['1994-01-06', '1997-05-07', '1995-05-02', '1992-10-01','1991-01-01']},\n",
    "      columns = ['Name','Mark','Class','sex','age', 'Date_of_birth'])\n",
    "student_grade "
   ]
  },
  {
   "cell_type": "code",
   "execution_count": 88,
   "metadata": {},
   "outputs": [
    {
     "data": {
      "text/plain": [
       "0    26\n",
       "1    23\n",
       "2    25\n",
       "3    28\n",
       "4    27\n",
       "Name: age, dtype: int64"
      ]
     },
     "execution_count": 88,
     "metadata": {},
     "output_type": "execute_result"
    }
   ],
   "source": [
    "ages= student_grade['age']\n",
    "ages"
   ]
  },
  {
   "cell_type": "code",
   "execution_count": 89,
   "metadata": {},
   "outputs": [
    {
     "data": {
      "text/plain": [
       "28"
      ]
     },
     "execution_count": 89,
     "metadata": {},
     "output_type": "execute_result"
    }
   ],
   "source": [
    "ages.max()"
   ]
  },
  {
   "cell_type": "code",
   "execution_count": 90,
   "metadata": {},
   "outputs": [
    {
     "data": {
      "text/plain": [
       "0    74\n",
       "1    85\n",
       "2    80\n",
       "3    77\n",
       "4    91\n",
       "Name: Mark, dtype: int64"
      ]
     },
     "execution_count": 90,
     "metadata": {},
     "output_type": "execute_result"
    }
   ],
   "source": [
    "Grade= student_grade['Mark']\n",
    "Grade"
   ]
  },
  {
   "cell_type": "code",
   "execution_count": 91,
   "metadata": {},
   "outputs": [
    {
     "data": {
      "text/plain": [
       "91"
      ]
     },
     "execution_count": 91,
     "metadata": {},
     "output_type": "execute_result"
    }
   ],
   "source": [
    "Grade.max()"
   ]
  },
  {
   "cell_type": "code",
   "execution_count": 92,
   "metadata": {},
   "outputs": [
    {
     "name": "stdout",
     "output_type": "stream",
     "text": [
      "[0    17\n",
      "1     6\n",
      "2    11\n",
      "3    14\n",
      "4     0\n",
      "Name: Mark, dtype: int64]\n"
     ]
    }
   ],
   "source": [
    "print([Grade.max() - Grade])\n"
   ]
  },
  {
   "cell_type": "code",
   "execution_count": 93,
   "metadata": {},
   "outputs": [
    {
     "data": {
      "text/plain": [
       "0   1994-01-06\n",
       "1   1997-05-07\n",
       "2   1995-05-02\n",
       "3   1992-10-01\n",
       "4   1991-01-01\n",
       "Name: Date_of_birth, dtype: datetime64[ns]"
      ]
     },
     "execution_count": 93,
     "metadata": {},
     "output_type": "execute_result"
    }
   ],
   "source": [
    "Months_of_Birth= pd.to_datetime(student_grade['Date_of_birth'],format='%Y-%m-%d')\n",
    "Months_of_Birth"
   ]
  },
  {
   "cell_type": "code",
   "execution_count": 94,
   "metadata": {},
   "outputs": [
    {
     "data": {
      "text/plain": [
       "0     1\n",
       "1     5\n",
       "2     5\n",
       "3    10\n",
       "4     1\n",
       "Name: Date_of_birth, dtype: int64"
      ]
     },
     "execution_count": 94,
     "metadata": {},
     "output_type": "execute_result"
    }
   ],
   "source": [
    "Months_of_Birth.dt.month"
   ]
  },
  {
   "cell_type": "code",
   "execution_count": 95,
   "metadata": {},
   "outputs": [],
   "source": [
    "student_grade['Months_of_Birth'] = Months_of_Birth.dt.month"
   ]
  },
  {
   "cell_type": "code",
   "execution_count": 96,
   "metadata": {},
   "outputs": [
    {
     "data": {
      "text/html": [
       "<div>\n",
       "<style scoped>\n",
       "    .dataframe tbody tr th:only-of-type {\n",
       "        vertical-align: middle;\n",
       "    }\n",
       "\n",
       "    .dataframe tbody tr th {\n",
       "        vertical-align: top;\n",
       "    }\n",
       "\n",
       "    .dataframe thead th {\n",
       "        text-align: right;\n",
       "    }\n",
       "</style>\n",
       "<table border=\"1\" class=\"dataframe\">\n",
       "  <thead>\n",
       "    <tr style=\"text-align: right;\">\n",
       "      <th></th>\n",
       "      <th>Name</th>\n",
       "      <th>Mark</th>\n",
       "      <th>Class</th>\n",
       "      <th>sex</th>\n",
       "      <th>age</th>\n",
       "      <th>Date_of_birth</th>\n",
       "      <th>Months_of_Birth</th>\n",
       "    </tr>\n",
       "  </thead>\n",
       "  <tbody>\n",
       "    <tr>\n",
       "      <th>0</th>\n",
       "      <td>John Deo</td>\n",
       "      <td>74</td>\n",
       "      <td>math</td>\n",
       "      <td>female</td>\n",
       "      <td>26</td>\n",
       "      <td>1994-01-06</td>\n",
       "      <td>1</td>\n",
       "    </tr>\n",
       "    <tr>\n",
       "      <th>1</th>\n",
       "      <td>Max Ruin</td>\n",
       "      <td>85</td>\n",
       "      <td>Biology</td>\n",
       "      <td>male</td>\n",
       "      <td>23</td>\n",
       "      <td>1997-05-07</td>\n",
       "      <td>5</td>\n",
       "    </tr>\n",
       "    <tr>\n",
       "      <th>2</th>\n",
       "      <td>Krish Star</td>\n",
       "      <td>80</td>\n",
       "      <td>chemisty</td>\n",
       "      <td>famale</td>\n",
       "      <td>25</td>\n",
       "      <td>1995-05-02</td>\n",
       "      <td>5</td>\n",
       "    </tr>\n",
       "    <tr>\n",
       "      <th>3</th>\n",
       "      <td>Alex Jhon</td>\n",
       "      <td>77</td>\n",
       "      <td>History</td>\n",
       "      <td>male</td>\n",
       "      <td>28</td>\n",
       "      <td>1992-10-01</td>\n",
       "      <td>10</td>\n",
       "    </tr>\n",
       "    <tr>\n",
       "      <th>4</th>\n",
       "      <td>Yosef assefa</td>\n",
       "      <td>91</td>\n",
       "      <td>CS</td>\n",
       "      <td>male</td>\n",
       "      <td>27</td>\n",
       "      <td>1991-01-01</td>\n",
       "      <td>1</td>\n",
       "    </tr>\n",
       "  </tbody>\n",
       "</table>\n",
       "</div>"
      ],
      "text/plain": [
       "           Name  Mark     Class     sex  age Date_of_birth  Months_of_Birth\n",
       "0      John Deo    74      math  female   26    1994-01-06                1\n",
       "1      Max Ruin    85   Biology    male   23    1997-05-07                5\n",
       "2    Krish Star    80  chemisty  famale   25    1995-05-02                5\n",
       "3     Alex Jhon    77   History    male   28    1992-10-01               10\n",
       "4  Yosef assefa    91        CS    male   27    1991-01-01                1"
      ]
     },
     "execution_count": 96,
     "metadata": {},
     "output_type": "execute_result"
    }
   ],
   "source": [
    "student_grade"
   ]
  },
  {
   "cell_type": "code",
   "execution_count": 97,
   "metadata": {},
   "outputs": [],
   "source": [
    "student_grade.to_csv('student_grade_clean.csv', index = False)"
   ]
  },
  {
   "cell_type": "code",
   "execution_count": null,
   "metadata": {},
   "outputs": [],
   "source": []
  }
 ],
 "metadata": {
  "kernelspec": {
   "display_name": "Python 3",
   "language": "python",
   "name": "python3"
  },
  "language_info": {
   "codemirror_mode": {
    "name": "ipython",
    "version": 3
   },
   "file_extension": ".py",
   "mimetype": "text/x-python",
   "name": "python",
   "nbconvert_exporter": "python",
   "pygments_lexer": "ipython3",
   "version": "3.8.3"
  }
 },
 "nbformat": 4,
 "nbformat_minor": 4
}
