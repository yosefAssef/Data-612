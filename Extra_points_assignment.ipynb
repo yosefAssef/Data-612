{
  "nbformat": 4,
  "nbformat_minor": 0,
  "metadata": {
    "colab": {
      "name": "Extra points assignment.ipynb",
      "provenance": []
    },
    "kernelspec": {
      "name": "python3",
      "display_name": "Python 3"
    }
  },
  "cells": [
    {
      "cell_type": "markdown",
      "metadata": {
        "id": "P8VJEvJqH6zn"
      },
      "source": [
        "# Extra points"
      ]
    },
    {
      "cell_type": "markdown",
      "metadata": {
        "id": "USZ59W7ZIIjk"
      },
      "source": [
        "## Challenge\n",
        "\n",
        "Go to 'https://www.gapminder.org/data/'. Click on 'Select an Indicator' arrow then select 'Health'\n",
        "then 'Vaccine' to finally select 'DTP3 immunizet' page.     \n",
        "\n",
        "  - Load the data shown on the HTML page using pd.read_html() method.\n",
        "  - If able to load the data, write a jupyter notebook or python script and contribute your solution to the GitHub community.\n"
      ]
    },
    {
      "cell_type": "markdown",
      "metadata": {
        "id": "DACLvAQfIitE"
      },
      "source": [
        "## Example     \n",
        "Below is an example of how to use .read_html 'pandas' method to load html data. "
      ]
    },
    {
      "cell_type": "code",
      "metadata": {
        "id": "nu4Ys4cQHm7h"
      },
      "source": [
        "import urllib.request\n",
        "from bs4 import BeautifulSoup\n",
        "import pandas as pd\n"
      ],
      "execution_count": 58,
      "outputs": []
    },
    {
      "cell_type": "code",
      "metadata": {
        "id": "EVGTABLxCKw9"
      },
      "source": [
        "soccer =urllib.request.urlopen('https://sports.yahoo.com/soccer/premier-league/standings/?guccounter=1&guce_referrer=aHR0cHM6Ly9zZWFyY2gueWFob28uY29tL3NlYXJjaDtfeWx0PUEyS0xmUzRvQWc1Z2FDQUFmTXRYTnlvQTtfeWxjPVgxTURNamMyTmpZM09RUmZjZ015QkdaeUEzVm9NMTltYVc1aGJtTmxYM1psY25RRVpuSXlBM05oTFdkd0xYTmxZWEpqYUFSbmNISnBaQU5IWVhaV1RqWTJiMUZTVjJ0akxuWm5SMWR5V2paQkJHNWZjbk5zZEFNd0JHNWZjM1ZuWndNMEJHOXlhV2RwYmdOelpXRnlZMmd1ZVdGb2IyOHVZMjl0QkhCdmN3TXhCSEJ4YzNSeUEzbGhhRzl2SUhOd2IzSjBJSFJoWWdSd2NYTjBjbXdETVRVRWNYTjBjbXdETVRnRWNYVmxjbmtEZVdGb2IyOGxNakJ6Y0c5eWRITWxNakIwWVdKc1pRUjBYM04wYlhBRE1UWXhNVFV6T1RVMk5nUjFjMlZmWTJGelpRTS0_cD15YWhvbytzcG9ydHMrdGFibGUmZnIyPXNhLWdwLXNlYXJjaCZmcj11aDNfZmluYW5jZV92ZXJ0&guce_referrer_sig=AQAAALWs_j0vxuM0K0ctkdKpbA-Th50BHz94x3rjiAJYY04xjfj9VFmz-LsnsxcT-KqYXee107uON-xbDUf5IzwI7B3MY60XSY7JtBBFG08YcK3j5rziHufmfhvJv-GVJqfS0P61IWdDQ90hw8y7ItEBLQxz0Sk0KUWE86Yt93jwv-jL').read()"
      ],
      "execution_count": 48,
      "outputs": []
    },
    {
      "cell_type": "code",
      "metadata": {
        "id": "Vrf493l1yH8w"
      },
      "source": [
        "soup = BeautifulSoup(soccer, 'lxml')\n",
        "table = soup.table"
      ],
      "execution_count": 51,
      "outputs": []
    },
    {
      "cell_type": "code",
      "metadata": {
        "id": "xMw2AF7WymVz"
      },
      "source": [
        "table_rows = table.find_all('tr')"
      ],
      "execution_count": 53,
      "outputs": []
    },
    {
      "cell_type": "code",
      "metadata": {
        "id": "bSU4i0fk2R1i",
        "outputId": "b8c4a1e1-41ab-4d10-d916-341b12344bb2",
        "colab": {
          "base_uri": "https://localhost:8080/"
        }
      },
      "source": [
        "for tr in table_rows:\n",
        "  td = tr.find_all ('td') \n",
        "  row = [i.text for i in td]\n",
        "  print(row)\n",
        "    "
      ],
      "execution_count": 76,
      "outputs": [
        {
          "output_type": "stream",
          "text": [
            "[]\n",
            "['1', '19 (9 | 10)', '12 (4 | 8)', '4 (2 | 2)', '3 (3 | 0)', '11', '40']\n",
            "['2', '18 (10 | 8)', '11 (7 | 4)', '5 (2 | 3)', '2 (1 | 1)', '18', '38']\n",
            "['3', '19 (10 | 9)', '12 (5 | 7)', '2 (1 | 1)', '5 (4 | 1)', '14', '38']\n",
            "['4', '19 (10 | 9)', '9 (7 | 2)', '7 (2 | 5)', '3 (1 | 2)', '15', '34']\n",
            "['5', '18 (9 | 9)', '9 (4 | 5)', '6 (3 | 3)', '3 (2 | 1)', '16', '33']\n",
            "['6', '17 (8 | 9)', '10 (4 | 6)', '2 (1 | 1)', '5 (3 | 2)', '7', '32']\n",
            "['7', '19 (10 | 9)', '9 (5 | 4)', '5 (3 | 2)', '5 (2 | 3)', '5', '32']\n",
            "['8', '17 (8 | 9)', '9 (4 | 5)', '2 (1 | 1)', '6 (3 | 3)', '13', '29']\n",
            "['9', '19 (9 | 10)', '8 (4 | 4)', '5 (3 | 2)', '6 (2 | 4)', '10', '29']\n",
            "['10', '18 (9 | 9)', '8 (5 | 3)', '5 (1 | 4)', '5 (3 | 2)', '5', '29']\n",
            "['11', '19 (10 | 9)', '8 (4 | 4)', '3 (2 | 1)', '8 (4 | 4)', '4', '27']\n",
            "['12', '18 (9 | 9)', '7 (3 | 4)', '2 (2 | 0)', '9 (4 | 5)', '-4', '23']\n",
            "['13', '19 (9 | 10)', '6 (3 | 3)', '5 (3 | 2)', '8 (3 | 5)', '-11', '23']\n",
            "['14', '19 (10 | 9)', '6 (3 | 3)', '4 (3 | 1)', '9 (4 | 5)', '-8', '22']\n",
            "['15', '18 (8 | 10)', '5 (3 | 2)', '4 (1 | 3)', '9 (4 | 5)', '-12', '19']\n",
            "['16', '19 (9 | 10)', '5 (3 | 2)', '4 (2 | 2)', '10 (4 | 6)', '-14', '19']\n",
            "['17', '19 (9 | 10)', '3 (0 | 3)', '8 (5 | 3)', '8 (4 | 4)', '-7', '17']\n",
            "['18', '18 (10 | 8)', '2 (1 | 1)', '6 (3 | 3)', '10 (6 | 4)', '-12', '12']\n",
            "['19', '19 (9 | 10)', '2 (1 | 1)', '5 (2 | 3)', '12 (6 | 6)', '-28', '11']\n",
            "['20', '19 (10 | 9)', '1 (1 | 0)', '2 (1 | 1)', '16 (8 | 8)', '-22', '5']\n",
            "[]\n",
            "['Champions League (League Winners): Manchester United']\n",
            "['Champions League (League Position): Manchester City, Leicester City, Liverpool']\n",
            "['Europa Cup (League Position): Tottenham Hotspur']\n",
            "['Relegation (League Position): Fulham, West Bromwich Albion, Sheffield United']\n"
          ],
          "name": "stdout"
        }
      ]
    }
  ]
}